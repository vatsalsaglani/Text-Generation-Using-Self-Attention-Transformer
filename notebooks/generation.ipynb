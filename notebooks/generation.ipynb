{
 "nbformat": 4,
 "nbformat_minor": 2,
 "metadata": {
  "language_info": {
   "name": "python",
   "codemirror_mode": {
    "name": "ipython",
    "version": 3
   },
   "version": "3.7.6-final"
  },
  "orig_nbformat": 2,
  "file_extension": ".py",
  "mimetype": "text/x-python",
  "name": "python",
  "npconvert_exporter": "python",
  "pygments_lexer": "ipython3",
  "version": 3,
  "kernelspec": {
   "name": "python37664bitmlenvconda641c6c46b6b34dc782deed742137ea0f",
   "display_name": "Python 3.7.6 64-bit ('ml_env': conda)"
  }
 },
 "cells": [
  {
   "cell_type": "code",
   "execution_count": 1,
   "metadata": {},
   "outputs": [],
   "source": [
    "import pandas as pd \n",
    "import numpy as np \n",
    "import re \n",
    "from tqdm import tqdm, trange \n",
    "from BPE.tokenizer import * \n",
    "from BPE.vocab_builder import * \n",
    "from BPE.utilities import * \n",
    "from Transformer import * \n",
    "import os"
   ]
  },
  {
   "cell_type": "code",
   "execution_count": 2,
   "metadata": {},
   "outputs": [],
   "source": [
    "text_path = '../data/txt/'"
   ]
  },
  {
   "cell_type": "code",
   "execution_count": 3,
   "metadata": {},
   "outputs": [
    {
     "output_type": "execute_result",
     "data": {
      "text/plain": "['500daysofsummer.txt',\n 'eternal_sunshine_of_the_spotless_mind.txt',\n 'LordoftheRings1-FOTR.txt',\n 'Bourne-Ultimatum.txt',\n 'the_matrix.txt',\n 'departed-the-sept-06.txt',\n 'The_Hangover.txt',\n 'thedarkknight-screenplay.txt']"
     },
     "metadata": {},
     "execution_count": 3
    }
   ],
   "source": [
    "os.listdir(text_path)"
   ]
  },
  {
   "cell_type": "code",
   "execution_count": 4,
   "metadata": {},
   "outputs": [],
   "source": [
    "all_txt = []\n",
    "for path in os.listdir(text_path):\n",
    "    txt_ = open(os.path.join(text_path, path), 'r')\n",
    "    all_txt.append(txt_.read())"
   ]
  },
  {
   "cell_type": "code",
   "execution_count": 5,
   "metadata": {},
   "outputs": [
    {
     "output_type": "execute_result",
     "data": {
      "text/plain": "8"
     },
     "metadata": {},
     "execution_count": 5
    }
   ],
   "source": [
    "len(all_txt)"
   ]
  },
  {
   "cell_type": "code",
   "execution_count": 6,
   "metadata": {},
   "outputs": [],
   "source": [
    "text = \" \".join(all_txt)"
   ]
  },
  {
   "cell_type": "code",
   "execution_count": 7,
   "metadata": {},
   "outputs": [
    {
     "output_type": "execute_result",
     "data": {
      "text/plain": "31190"
     },
     "metadata": {},
     "execution_count": 7
    }
   ],
   "source": [
    "len(set(text.split()))"
   ]
  },
  {
   "cell_type": "code",
   "execution_count": 8,
   "metadata": {},
   "outputs": [
    {
     "output_type": "execute_result",
     "data": {
      "text/plain": "246146"
     },
     "metadata": {},
     "execution_count": 8
    }
   ],
   "source": [
    "len(text.split())"
   ]
  },
  {
   "cell_type": "code",
   "execution_count": 10,
   "metadata": {},
   "outputs": [],
   "source": [
    "corpus = open('/home/vatsalsaglani/projects/generation_projects/data/enwik8', 'r')\n",
    "corpus = corpus.read()"
   ]
  },
  {
   "cell_type": "code",
   "execution_count": 11,
   "metadata": {},
   "outputs": [
    {
     "output_type": "execute_result",
     "data": {
      "text/plain": "13303079"
     },
     "metadata": {},
     "execution_count": 11
    }
   ],
   "source": [
    "len(corpus.split())"
   ]
  },
  {
   "cell_type": "code",
   "execution_count": 12,
   "metadata": {},
   "outputs": [
    {
     "output_type": "stream",
     "name": "stderr",
     "text": "100%|██████████| 6500/6500 [5:58:29<00:00,  3.31s/it]\n"
    }
   ],
   "source": [
    "bpevocab = BuildBPEVocab(corpus, iters = 6500)"
   ]
  },
  {
   "cell_type": "code",
   "execution_count": 13,
   "metadata": {},
   "outputs": [
    {
     "output_type": "execute_result",
     "data": {
      "text/plain": "811611"
     },
     "metadata": {},
     "execution_count": 13
    }
   ],
   "source": [
    "len(bpevocab.vocab_tokenization)"
   ]
  },
  {
   "cell_type": "code",
   "execution_count": 14,
   "metadata": {},
   "outputs": [
    {
     "output_type": "execute_result",
     "data": {
      "text/plain": "c</w>'],\n 'movement</w>': ['movement</w>'],\n 'during</w>': ['during</w>'],\n 'time</w>': ['time</w>'],\n 'Civil</w>': ['Civil</w>'],\n 'War</w>': ['War</w>'],\n 'some</w>': ['some</w>'],\n 'zpub</w>': ['z', 'p', 'ub</w>'],\n 'comnotesaanhist</w>': ['com', 'not', 'es', 'a', 'an', 'h', 'ist</w>'],\n 'An</w>': ['An</w>'],\n 'Timeline</w>': ['Tim', 'eline</w>'],\n '1994</w>': ['1994</w>'],\n 'era</w>': ['era</w>'],\n 'mean</w>': ['mean</w>'],\n 'something</w>': ['something</w>'],\n 'other</w>': ['other</w>'],\n 'than</w>': ['than</w>'],\n 'LouisArmand</w>': ['Lou', 'is', 'Arm', 'and</w>'],\n 'de</w>': ['de</w>'],\n 'Lom</w>': ['L', 'om</w>'],\n \"d'Arce</w>\": [\"d'\", 'Ar', 'ce</w>'],\n 'Lahontan</w>': ['L', 'ah', 'ont', 'an</w>'],\n 'Baron</w>': ['Bar', 'on</w>'],\n 'LahontanLouisArmand</w>': ['L',\n  'ah',\n  'ont',\n  'an',\n  'Lou',\n  'is',\n  'Arm',\n  'and</w>'],\n \"''Nouveaux</w>\": [\"''N\", 'ou', 've', 'au', 'x</w>'],\n 'voyages</w>': ['v', 'oy', 'ages</w>'],\n 'dans</w>': ['d', 'ans</w>'],\n \"l'Amrique</w>\": ['l', \"'\", 'Am', 'ri', 'que</w>'],\n \"septentrionale''</w>\": ['s', 'ept', 'ent', 'ri', 'on', 'al', \"e''</w>\"],\n '1703</w>': ['17', '0', '3</w>'],\n 'where</w>': ['where</w>'],\n 'he</w>': ['he</w>'],\n 'described</w>': ['described</w>'],\n 'Native</w>': ['Native</w>'],\n 'Americans</w>': ['Americans</w>'],\n 'United</w>': ['United</w>'],\n 'Statesindigenous</w>': ['States', 'indi', 'gen', 'ous</w>'],\n 'which</w>': ['which</w>'],\n 'no</w>': ['no</w>'],\n 'laws</w>': ['laws</w>'],\n 'prisons</w>': ['pris', 'ons</w>'],\n 'priests</w>': ['pri', 'ests</w>'],\n 'private</w>': ['private</w>'],\n 'property</w>': ['property</w>'],\n 'being</w>': ['being</w>'],\n 'anarchy&lt</w>': ['anarch', 'y', '&lt</w>'],\n 'etext</w>': ['etext</w>'],\n 'lib</w>': ['li', 'b</w>'],\n 'virginia</w>': ['vir', 'g', 'inia</w>'],\n 'educgilocalDHIdhi</w>': ['educ',\n  'g',\n  'il',\n  'oc',\n  'al',\n  'D',\n  'H',\n  'I',\n  'dh',\n  'i</w>'],\n 'cgi?iddv112</w>': ['cgi', '?', 'idd', 'v', '1', '12</w>'],\n 'Dictionary</w>': ['Dic', 'tionary</w>'],\n 'Ideas</w>': ['I', 'de', 'as</w>'],\n 'ANARCHISM&lt</w>': ['AN', 'AR', 'C', 'H', 'IS', 'M', '&lt</w>'],\n 'Means</w>': ['Me', 'ans</w>'],\n 'libertarian</w>': ['liber', 't', 'arian</w>'],\n 'leader</w>': ['leader</w>'],\n 'Indian</w>': ['Indian</w>'],\n 'Movement</w>': ['Mov', 'ement</w>'],\n 'repeatedly</w>': ['repe', 'at', 'edly</w>'],\n 'stated</w>': ['stated</w>'],\n 'so</w>': ['so</w>'],\n 'ancestors</w>': ['ancest', 'ors</w>'],\n '1793</w>': ['179', '3</w>'],\n 'thick</w>': ['th', 'ick</w>'],\n 'William</w>': ['William</w>'],\n 'published</w>': ['published</w>'],\n \"''An</w>\": [\"''\", 'An</w>'],\n 'Enquiry</w>': ['En', 'qu', 'ir', 'y</w>'],\n 'Concerning</w>': ['Conc', 'ern', 'ing</w>'],\n 'Political</w>': ['Political</w>'],\n \"Justice''</w>\": ['Jus', 'tic', \"e''</w>\"],\n 'web</w>': ['web</w>'],\n 'bilkent</w>': ['b', 'il', 'k', 'ent</w>'],\n 'edu</w>': ['ed', 'u</w>'],\n 'trOnlinewww</w>': ['tr', 'On', 'line', 'www</w>'],\n 'english</w>': ['en', 'gl', 'ish</w>'],\n 'upenn</w>': ['up', 'en', 'n</w>'],\n 'edujlynchFrankGodwinpjtp</w>': ['edu',\n  'j',\n  'l',\n  'yn',\n  'ch',\n  'Frank',\n  'God',\n  'win',\n  'p',\n  'j',\n  't',\n  'p</w>'],\n 'Although</w>': ['Although</w>'],\n 'did</w>': ['did</w>'],\n \"''anarchism''</w>\": [\"''\", 'anarch', 'ism', \"''</w>\"],\n 'later</w>': ['later</w>'],\n 'have</w>': ['have</w>'],\n 'book</w>': ['book</w>'],\n 'major</w>': ['major</w>'],\n 'founder</w>': ['found', 'er</w>'],\n 'philosophical</w>': ['philosoph', 'ical</w>'],\n 'But</w>': ['But</w>'],\n 'point</w>': ['point</w>'],\n 'yet</w>': ['yet</w>'],\n 'existed</w>': ['exist', 'ed</w>'],\n \"''anarchiste''</w>\": [\"''\", 'anarch', 'ist', \"e''</w>\"],\n 'known</w>': ['known</w>'],\n 'mainly</w>': ['mainly</w>'],\n 'insult</w>': ['insu', 'lt</w>'],\n 'hurled</w>': ['h', 'ur', 'led</w>'],\n 'bourgeois</w>': ['bour', 'ge', 'ois</w>'],\n 'Girondins</w>': ['G', 'ir', 'ond', 'ins</w>'],\n 'more</w>': ['more</w>'],\n 'radical</w>': ['rad', 'ical</w>'],\n 'elements</w>': ['elements</w>'],\n 'revolution</w>': ['revol', 'ution</w>'],\n 'selflabelled</w>': ['sel', 'fl', 'ab', 'elled</w>'],\n 'PierreJosephProudhon</w>': ['Pier',\n  're',\n  'Jos',\n  'eph',\n  'Pr',\n  'ou',\n  'dh',\n  'on</w>'],\n 'jpg110pxthumbleftPierre</w>': ['jpg',\n  '110',\n  'px',\n  'thumb',\n  'left',\n  'Pier',\n  're</w>'],\n 'Joseph</w>': ['Joseph</w>'],\n 'Proudhon</w>': ['Pr', 'ou', 'dh', 'on</w>'],\n 'main</w>': ['main</w>'],\n 'articlesPierreJoseph</w>': ['artic', 'les', 'Pier', 're', 'Joseph</w>'],\n 'Mutualism</w>': ['M', 'ut', 'u', 'alism</w>'],\n 'theory</w>': ['theory</w>'],\n 'It</w>': ['It</w>'],\n 'commonly</w>': ['commonly</w>'],\n \"wasn't</w>\": ['w', 'as', \"n't</w>\"],\n 'until</w>': ['until</w>'],\n 'PierreJoseph</w>': ['Pier', 're', 'Joseph</w>'],\n \"''What</w>\": [\"''\", 'What</w>'],\n \"Property?''</w>\": ['Pro', 'per', 'ty', '?', \"''</w>\"],\n '1840</w>': ['18', '40</w>'],\n 'anarchist&quot</w>': ['anarch', 'ist', '&quot</w>'],\n 'adopted</w>': ['adopted</w>'],\n 'selfdescription</w>': ['self', 'description</w>'],\n 'reason</w>': ['reason</w>'],\n 'claim</w>': ['claim</w>'],\n 'What</w>': ['What</w>'],\n 'Property?</w>': ['Pro', 'per', 'ty', '?</w>'],\n 'answers</w>': ['answ', 'ers</w>'],\n 'famous</w>': ['famous</w>'],\n 'accusation</w>': ['acc', 'us', 'ation</w>'],\n 'theft</w>': ['the', 'ft</w>'],\n 'opposed</w>': ['opposed</w>'],\n 'institution</w>': ['in', 'stitution</w>'],\n 'property&quot</w>': ['proper', 'ty', '&quot</w>'],\n 'proprit</w>': ['pro', 'pri', 't</w>'],\n 'owners</w>': ['own', 'ers</w>'],\n 'complete</w>': ['complete</w>'],\n 'rights</w>': ['rights</w>'],\n 'abuse&quot</w>': ['ab', 'us', 'e&quot</w>'],\n 'their</w>': ['their</w>'],\n 'wish</w>': ['w', 'ish</w>'],\n 'such</w>': ['such</w>'],\n 'exploiting</w>': ['explo', 'iting</w>'],\n 'workers</w>': ['work', 'ers</w>'],\n 'profit</w>': ['prof', 'it</w>'],\n 'ref</w>': ['re', 'f</w>'],\n 'name&quot</w>': ['name', '&quot</w>'],\n 'proudhonprop&quot</w>': ['pr', 'ou', 'd', 'hon', 'prop', '&quot</w>'],\n '&gt</w>': ['&gt</w>'],\n 'ProudhonProudhon</w>': ['Pr', 'ou', 'd', 'hon', 'Pr', 'ou', 'dh', 'on</w>'],\n 'orgreferencesubjecteconomicsproudhonpropertych03</w>': ['org',\n  'refer',\n  'enc',\n  'es',\n  'ub',\n  'jec',\n  't',\n  'econom',\n  'ic',\n  'sp',\n  'rou',\n  'd',\n  'hon',\n  'proper',\n  'ty',\n  'ch',\n  '0',\n  '3</w>'],\n 'Chapter</w>': ['Chap', 'ter</w>'],\n 'Labour</w>': ['Labour</w>'],\n 'efficient</w>': ['eff', 'icient</w>'],\n 'cause</w>': ['cause</w>'],\n 'domain</w>': ['domain</w>'],\n 'Property?&quot</w>': ['Pro', 'per', 'ty', '?&quot</w>'],\n '1840&lt</w>': ['18', '40', '&lt</w>'],\n 'supported</w>': ['supported</w>'],\n 'called</w>': ['called</w>'],\n \"'possession'</w>\": [\"'\", 'poss', 'es', 'sion', \"'</w>\"],\n 'can</w>': ['can</w>'],\n 'limited</w>': ['limited</w>'],\n 'capital</w>': ['capital</w>'],\n 'goods</w>': ['goods</w>'],\n 'accordance</w>': ['acc', 'ord', 'ance</w>'],\n 'equality</w>': ['equ', 'ality</w>'],\n 'justice</w>': ['jus', 'tice</w>'],\n \"Proudhon's</w>\": ['Pr', 'ou', 'd', 'hon', \"'s</w>\"],\n 'vision</w>': ['vision</w>'],\n 'mutualism</w>': ['mut', 'u', 'alism</w>'],\n 'mutuellisme</w>': ['mut', 'u', 'ell', 'is', 'me</w>'],\n 'involved</w>': ['involved</w>'],\n 'exchange</w>': ['exchange</w>'],\n 'economy</w>': ['economy</w>'],\n 'groups</w>': ['groups</w>'],\n 'could</w>': ['could</w>'],\n 'trade</w>': ['trade</w>'],\n 'products</w>': ['products</w>'],\n 'labor</w>': ['lab', 'or</w>'],\n 'using</w>': ['using</w>'],\n \"''labor</w>\": [\"''\", 'lab', 'or</w>'],\n \"notes''</w>\": ['not', \"es''</w>\"],\n 'represented</w>': ['represented</w>'],\n 'amount</w>': ['amount</w>'],\n 'production</w>': ['production</w>'],\n 'This</w>': ['This</w>'],\n 'would</w>': ['would</w>'],\n 'ensure</w>': ['ens', 'ure</w>'],\n 'one</w>': ['one</w>'],\n 'Workers</w>': ['Wor', 'kers</w>'],\n 'freely</w>': ['fre', 'ely</w>'],\n 'join</w>': ['jo', 'in</w>'],\n 'together</w>': ['together</w>'],\n 'cooperative</w>': ['co', 'oper', 'ative</w>'],\n 'workshops</w>': ['work', 'sh', 'ops</w>'],\n 'interestfree</w>': ['inter', 'est', 'free</w>'],\n 'bank</w>': ['ban', 'k</w>'],\n 'set</w>': ['set</w>'],\n 'provide</w>': ['provide</w>'],\n 'everyone</w>': ['every', 'one</w>'],\n 'influential</w>': ['influ', 'ential</w>'],\n 'within</w>': ['within</w>'],\n 'followers</w>': ['follow', 'ers</w>'],\n 'active</w>': ['active</w>'],\n '1848</w>': ['18', '48</w>'],\n 'France</w>': ['France</w>'],\n 'complex</w>': ['complex</w>'],\n 'developed</w>': ['developed</w>'],\n 'number</w>': ['number</w>'],\n 'works</w>': ['works</w>'],\n 'over</w>': ['over</w>'],\n 'lifetime</w>': ['life', 'time</w>'],\n \"''For</w>\": [\"''\", 'For</w>'],\n 'detailed</w>': ['detail', 'ed</w>'],\n 'discussion</w>': ['discussion</w>'],\n 'see</w>': ['see</w>'],\n 'Proudhonhere</w>': ['Pr', 'ou', 'd', 'hon', 'here</w>'],\n 'Max</w>': ['Ma', 'x</w>'],\n \"Stirner's</w>\": ['S', 'ti', 'r', 'n', \"er's</w>\"],\n 'Egoism</w>': ['E', 'go', 'ism</w>'],\n 'articlesMax</w>': ['artic', 'les', 'Ma', 'x</w>'],\n 'Stirner</w>': ['S', 'ti', 'r', 'ner</w>'],\n \"''The</w>\": [\"''The</w>\"],\n 'Ego</w>': ['Eg', 'o</w>'],\n 'Its</w>': ['Its</w>'],\n \"Own''</w>\": ['O', 'w', 'n', \"''</w>\"],\n 'argued</w>': ['argued</w>'],\n 'accepted</w>': ['accepted</w>'],\n 'notion</w>': ['no', 'tion</w>'],\n 'State</w>': ['State</w>'],\n 'right</w>': ['right</w>'],\n 'natural</w>': ['natural</w>'],\n 'general</w>': ['general</w>'],\n 'very</w>': ['very</w>'],\n 'mere</w>': ['m', 'ere</w>'],\n 'illusions</w>': ['ill', 'us', 'ions</w>'],\n \"''ghosts''</w>\": [\"''\", 'gh', 'ost', \"s''</w>\"],\n 'mind</w>': ['mind</w>'],\n 'saying</w>': ['s', 'aying</w>'],\n 'reality</w>': ['reality</w>'],\n 'He</w>': ['He</w>'],\n 'advocated</w>': ['advoc', 'ated</w>'],\n 'egoism</w>': ['eg', 'o', 'ism</w>'],\n 'form</w>': ['form</w>'],\n 'amoralism</w>': ['am', 'or', 'alism</w>'],\n 'unite</w>': ['un', 'ite</w>'],\n \"'associations</w>\": [\"'\", 'associ', 'ations</w>'],\n \"egoists'</w>\": ['eg', 'o', 'ist', \"s'</w>\"],\n 'only</w>': ['only</w>'],\n 'when</w>': ['when</w>'],\n 'self</w>': ['self</w>'],\n 'interest</w>': ['interest</w>'],\n 'do</w>': ['do</w>'],\n 'For</w>': ['For</w>'],\n 'him</w>': ['him</w>'],\n 'simply</w>': ['simply</w>'],\n 'comes</w>': ['comes</w>'],\n 'through</w>': ['through</w>'],\n 'Whoever</w>': ['Wh', 'o', 'ever</w>'],\n 'knows</w>': ['kn', 'ows</w>'],\n 'take</w>': ['take</w>'],\n 'defend</w>': ['def', 'end</w>'],\n 'thing</w>': ['thing</w>'],\n 'belongs</w>': ['bel', 'ong', 's</w>'],\n 'And</w>': ['And</w>'],\n 'I</w>': ['I</w>'],\n 'my</w>': ['my</w>'],\n 'power</w>': ['power</w>'],\n 'own</w>': ['own</w>'],\n 'So</w>': ['So</w>'],\n 'long</w>': ['long</w>'],\n 'assert</w>': ['ass', 'ert</w>'],\n 'myself</w>': ['m', 'ys', 'el', 'f</w>'],\n 'holder</w>': ['h', 'older</w>'],\n 'am</w>': ['am</w>'],\n 'proprietor</w>': ['pro', 'pri', 'et', 'or</w>'],\n 'never</w>': ['never</w>'],\n 'himself</w>': ['himself</w>'],\n \"'egoist'</w>\": [\"'\", 'eg', 'o', 'ist', \"'</w>\"],\n 'Nevertheless</w>': ['Ne', 'ver', 'th', 'eless</w>'],\n 'individualisticallyinclined</w>': ['individ',\n  'ual',\n  'istic',\n  'all',\n  'y',\n  'in',\n  'cl',\n  'ined</w>'],\n 'thought</w>': ['thought</w>'],\n 'diverse</w>': ['di', 'verse</w>'],\n 'individualist</w>': ['individ', 'u', 'alist</w>'],\n 'BenjaminTucker</w>': ['Ben', 'jam', 'in', 'T', 'uc', 'ker</w>'],\n 'jpgthumb150pxleftBenjamin</w>': ['jpgthumb',\n  '15',\n  '0px',\n  'left',\n  'Ben',\n  'jam',\n  'in</w>'],\n 'Tucker</w>': ['T', 'uc', 'ker</w>'],\n 'articlesIndividualist</w>': ['artic',\n  'les',\n  'In',\n  'divid',\n  'u',\n  'alist</w>'],\n '1825</w>': ['18', '25</w>'],\n 'Josiah</w>': ['J', 'osi', 'ah</w>'],\n 'Warren</w>': ['War', 'ren</w>'],\n 'participated</w>': ['particip', 'ated</w>'],\n 'communitarian</w>': ['commun', 'it', 'arian</w>'],\n 'experiment</w>': ['experim', 'ent</w>'],\n 'headed</w>': ['head', 'ed</w>'],\n 'Robert</w>': ['Robert</w>'],\n 'Owen</w>': ['O', 'w', 'en</w>'],\n 'New</w>': ['New</w>'],\n 'Harmony</w>': ['Har', 'mon', 'y</w>'],\n 'failed</w>': ['failed</w>'],\n 'few</w>': ['few</w>'],\n 'years</w>': ['years</w>'],\n 'amidst</w>': ['am', 'id', 'st</w>'],\n 'much</w>': ['much</w>'],\n 'internal</w>': ['internal</w>'],\n 'conflict</w>': ['conflict</w>'],\n 'blamed</w>': ['bl', 'amed</w>'],\n \"community's</w>\": ['commun', 'ity', \"'s</w>\"],\n 'failure</w>': ['fail', 'ure</w>'],\n 'lack</w>': ['lack</w>'],\n 'individual</w>': ['individual</w>'],\n 'proceeded</w>': ['proc', 'e', 'eded</w>'],\n 'organise</w>': ['organ', 'ise</w>'],\n 'experimenal</w>': ['experim', 'en', 'al</w>'],\n 'communities</w>': ['communities</w>'],\n 'respected</w>': ['respec', 'ted</w>'],\n 'Utopia</w>': ['U', 'top', 'ia</w>'],\n 'communityUtopia</w>': ['commun', 'ity', 'U', 'top', 'ia</w>'],\n 'Modern</w>': ['Modern</w>'],\n 'Times</w>': ['Tim', 'es</w>'],\n '1833</w>': ['18', '33</w>'],\n 'wrote</w>': ['wrote</w>'],\n 'Peaceful</w>': ['Pe', 'ace', 'ful</w>'],\n \"Revolutionist''</w>\": ['R', 'evolu', 'tion', 'ist', \"''</w>\"],\n 'noted</w>': ['noted</w>'],\n 'periodical</w>': ['period', 'ical</w>'],\n 'ever</w>': ['ever</w>'],\n 'Benjamin</w>': ['Ben', 'jam', 'in</w>'],\n 'says</w>': ['says</w>'],\n 'expound</w>': ['exp', 'ound</w>'],\n 'formulate</w>': ['form', 'ul', 'ate</w>'],\n 'doctrine</w>': ['doctr', 'ine</w>'],\n 'now</w>': ['now</w>'],\n \"''Liberty''</w>\": [\"''\", 'Liber', 't', \"y''</w>\"],\n 'XIV</w>': ['X', 'IV</w>'],\n 'December</w>': ['December</w>'],\n '1900</w>': ['19', '00</w>'],\n 'became</w>': ['became</w>'],\n 'interested</w>': ['inter', 'ested</w>'],\n 'meeting</w>': ['me', 'eting</w>'],\n 'B</w>': ['B</w>'],\n 'Greene</w>': ['Gre', 'ene</w>'],\n 'edited</w>': ['ed', 'ited</w>'],\n 'August</w>': ['August</w>'],\n '1881</w>': ['188', '1</w>'],\n '1908</w>': ['190', '8</w>'],\n 'widely</w>': ['widely</w>'],\n 'finest</w>': ['fin', 'est</w>'],\n 'individualistanarchist</w>': ['individ', 'ual', 'ist', 'anarch', 'ist</w>'],\n 'issued</w>': ['issu', 'ed</w>'],\n 'language</w>': ['language</w>'],\n \"Tucker's</w>\": ['T', 'uck', \"er's</w>\"],\n 'conception</w>': ['conc', 'eption</w>'],\n 'incorporated</w>': ['incorpor', 'ated</w>'],\n 'variety</w>': ['variety</w>'],\n 'theorists</w>': ['theor', 'ists</w>'],\n \"Greene's</w>\": ['Green', \"e's</w>\"],\n 'mutualismmutual</w>': ['mut', 'ual', 'ism', 'mut', 'ual</w>'],\n 'banking</w>': ['ban', 'king</w>'],\n \"Warren's</w>\": ['War', 'ren', \"'s</w>\"],\n 'cost</w>': ['cost</w>'],\n 'limit</w>': ['lim', 'it</w>'],\n 'pricecost</w>': ['pr', 'ic', 'ec', 'ost</w>'],\n 'price</w>': ['pr', 'ice</w>'],\n 'heterodox</w>': ['h', 'eter', 'od', 'ox</w>'],\n 'economicsheterodox</w>': ['econom', 'ic', 'sh', 'eter', 'od', 'ox</w>'],\n 'value</w>': ['value</w>'],\n 'market</w>': ['market</w>'],\n 'Herbert</w>': ['Her', 'bert</w>'],\n \"Spencer's</w>\": ['Sp', 'enc', \"er's</w>\"],\n 'freedom&quot</w>': ['fre', 'ed', 'om', '&quot</w>'],\n 'strongly</w>': ['strong', 'ly</w>'],\n \"individual's</w>\": ['individ', 'ual', \"'s</w>\"],\n 'product</w>': ['product</w>'],\n 'her</w>': ['her</w>'],\n 'believed</w>': ['believed</w>'],\n 'tuckerpay&quot</w>': ['t', 'uck', 'er', 'p', 'ay', '&quot</w>'],\n 'TuckerTucker</w>': ['T', 'uck', 'er', 'T', 'uc', 'ker</w>'],\n 'jsplibrarytuckertucker37</w>': ['j',\n  'sp',\n  'libr',\n  'ary',\n  't',\n  'uck',\n  'ert',\n  'uck',\n  'er',\n  '37</w>'],\n 'Labor</w>': ['Lab', 'or</w>'],\n 'Pay&quot</w>': ['P', 'ay', '&quot</w>'],\n 'Individual</w>': ['In', 'divid', 'ual</w>'],\n 'Liberty</w>': ['Liber', 'ty</w>'],\n 'Selections</w>': ['S', 'elections</w>'],\n 'From</w>': ['From</w>'],\n 'Writings</w>': ['Writ', 'ings</w>'],\n 'Vanguard</w>': ['V', 'angu', 'ard</w>'],\n 'Press</w>': ['Press</w>'],\n 'York</w>': ['York</w>'],\n '1926</w>': ['192', '6</w>'],\n 'Kraus</w>': ['K', 'ra', 'us</w>'],\n 'Reprint</w>': ['Rep', 'r', 'int</w>'],\n 'Co</w>': ['C', 'o</w>'],\n 'Millwood</w>': ['Mill', 'wood</w>'],\n 'NY</w>': ['N', 'Y</w>'],\n '1973</w>': ['1973</w>'],\n 'trading</w>': ['tr', 'ading</w>'],\n 'system</w>': ['system</w>'],\n 'abundance</w>': ['ab', 'und', 'ance</w>'],\n 'competition</w>': ['competition</w>'],\n 'eliminate</w>': ['elim', 'in', 'ate</w>'],\n 'profits</w>': ['prof', 'its</w>'],\n 'received</w>': ['received</w>'],\n 'full</w>': ['full</w>'],\n 'Other</w>': ['Other</w>'],\n '19th</w>': ['19th</w>'],\n 'individualists</w>': ['individ', 'ual', 'ists</w>'],\n 'included</w>': ['included</w>'],\n 'Lysander</w>': ['L', 'ys', 'ander</w>'],\n 'Spooner</w>': ['S', 'po', 'on', 'er</w>'],\n 'Stephen</w>': ['Steph', 'en</w>'],\n 'Pearl</w>': ['P', 'ear', 'l</w>'],\n 'Andrews</w>': ['And', 're', 'ws</w>'],\n 'Victor</w>': ['Vic', 'tor</w>'],\n 'Yarros</w>': ['Y', 'ar', 'ro', 's</w>'],\n 'First</w>': ['First</w>'],\n 'Bakuninfull</w>': ['B', 'ak', 'un', 'in', 'full</w>'],\n 'jpgthumb150pxrightBakuninMikhail</w>': ['jpgthumb',\n  '15',\n  '0px',\n  'right',\n  'B',\n  'ak',\n  'un',\n  'in',\n  'M',\n  'ik',\n  'ha',\n  'il</w>'],\n 'Bakunin</w>': ['B', 'ak', 'un', 'in</w>'],\n '18141876</w>': ['18', '14', '187', '6</w>'],\n 'articlesInternational</w>': ['artic', 'les', 'International</w>'],\n \"Workingmen's</w>\": ['Wor', 'k', 'ing', 'men', \"'s</w>\"],\n 'Association</w>': ['Association</w>'],\n 'Marxism</w>': ['Mar', 'x', 'ism</w>'],\n 'harsh</w>': ['har', 'sh</w>'],\n 'reaction</w>': ['reaction</w>'],\n 'followed</w>': ['followed</w>'],\n 'revolutions</w>': ['revol', 'utions</w>'],\n 'Twenty</w>': ['Tw', 'ent', 'y</w>'],\n '1864</w>': ['186', '4</w>'],\n \"'First</w>\": [\"'\", 'First</w>'],\n \"International'</w>\": ['In', 'tern', 'ation', 'al', \"'</w>\"],\n 'united</w>': ['un', 'ited</w>'],\n 'European</w>': ['European</w>'],\n 'revolutionary</w>': ['revol', 'u', 'tionary</w>'],\n 'currents</w>': ['curr', 'ents</w>'],\n 'Due</w>': ['D', 'ue</w>'],\n 'genuine</w>': ['gen', 'u', 'ine</w>'],\n 'links</w>': ['links</w>'],\n 'signficiant</w>': ['sign', 'fic', 'i', 'ant</w>'],\n 'start</w>': ['start</w>'],\n 'Karl</w>': ['Kar', 'l</w>'],\n 'Marx</w>': ['Mar', 'x</w>'],\n 'leading</w>': ['leading</w>'],\n 'figure</w>': ['figure</w>'],\n 'elected</w>': ['elected</w>'],\n 'succeeding</w>': ['succe', 'eding</w>'],\n 'General</w>': ['General</w>'],\n 'Council</w>': ['Council</w>'],\n 'objections</w>': ['objec', 'tions</w>'],\n 'came</w>': ['came</w>'],\n 'MutualismMutualists</w>': ['M',\n  'ut',\n  'ual',\n  'ism',\n  'M',\n  'ut',\n  'ual',\n  'ists</w>'],\n 'who</w>': ['who</w>'],\n 'statism</w>': ['statis', 'm</w>'],\n 'Shortly</w>': ['Sh', 'ort', 'ly</w>'],\n 'after</w>': ['after</w>'],\n 'Mikhail</w>': ['M', 'ik', 'ha', 'il</w>'],\n 'joined</w>': ['joined</w>'],\n '1868</w>': ['186', '8</w>'],\n 'polarised</w>': ['pol', 'ar', 'ised</w>'],\n 'into</w>': ['into</w>'],\n 'two</w>': ['two</w>'],\n 'camps</w>': ['camp', 's</w>'],\n 'respective</w>': ['respec', 'tive</w>'],\n 'figureheads</w>': ['fig', 'ure', 'head', 's</w>'],\n 'clearest</w>': ['cle', 'ar', 'est</w>'],\n 'difference</w>': ['difference</w>'],\n 'between</w>': ['between</w>'],\n 'strategy</w>': ['strateg', 'y</w>'],\n 'around</w>': ['around</w>'],\n 'favoured</w>': ['fav', 'oured</w>'],\n \"Kropotkin's</w>\": ['K', 'rop', 'ot', 'k', \"in's</w>\"],\n 'words</w>': ['words</w>'],\n 'direct</w>': ['direct</w>'],\n 'economical</w>': ['econom', 'ical</w>'],\n 'struggle</w>': ['str', 'ugg', 'le</w>'],\n 'capitalism</w>': ['capit', 'alism</w>'],\n 'interfering</w>': ['inter', 'fer', 'ing</w>'],\n 'parliamentary</w>': ['par', 'liament', 'ary</w>'],\n 'agitation</w>': ['ag', 'itation</w>'],\n 'At</w>': ['At</w>'],\n 'focused</w>': ['foc', 'used</w>'],\n 'activity</w>': ['activity</w>'],\n 'characterised</w>': ['character', 'ised</w>'],\n \"Marx's</w>\": ['Mar', 'x', \"'s</w>\"],\n 'predicted</w>': ['predic', 'ted</w>'],\n 'if</w>': ['if</w>'],\n 'Marxist</w>': ['Mar', 'x', 'ist</w>'],\n 'party</w>': ['party</w>'],\n 'gained</w>': ['gained</w>'],\n 'leaders</w>': ['leaders</w>'],\n 'end</w>': ['end</w>'],\n 'bad</w>': ['b', 'ad</w>'],\n 'ruling</w>': ['rul', 'ing</w>'],\n 'fought</w>': ['f', 'ought</w>'],\n 'BakuninBakunin</w>': ['B', 'ak', 'un', 'in', 'B', 'ak', 'un', 'in</w>'],\n 'litencyc</w>': ['lit', 'ency', 'c</w>'],\n 'comphpadpage</w>': ['com', 'ph', 'p', 'ad', 'page</w>'],\n 'php?id1969</w>': ['php?', 'id', '1969</w>'],\n 'Statism</w>': ['St', 'atis', 'm</w>'],\n 'Anarchy&quot</w>': ['An', 'arch', 'y&quot</w>'],\n '1872</w>': ['187', '2</w>'],\n 'climaxed</w>': ['cli', 'ma', 'xed</w>'],\n 'split</w>': ['sp', 'lit</w>'],\n 'Hague</w>': ['H', 'ague</w>'],\n 'Congress</w>': ['Congress</w>'],\n ...}"
     },
     "metadata": {},
     "execution_count": 14
    }
   ],
   "source": [
    "bpevocab.vocab_tokenization"
   ]
  },
  {
   "cell_type": "code",
   "execution_count": 15,
   "metadata": {},
   "outputs": [
    {
     "output_type": "execute_result",
     "data": {
      "text/plain": "6571"
     },
     "metadata": {},
     "execution_count": 15
    }
   ],
   "source": [
    "len(bpevocab.strtoint)"
   ]
  },
  {
   "cell_type": "code",
   "execution_count": 9,
   "metadata": {},
   "outputs": [],
   "source": [
    "save_path = '../data/pickles/vocab/'"
   ]
  },
  {
   "cell_type": "code",
   "execution_count": 17,
   "metadata": {},
   "outputs": [],
   "source": [
    "save_pickle(f'{save_path}strtoint.pkl', bpevocab.strtoint)\n",
    "save_pickle(f'{save_path}inttostr.pkl', bpevocab.inttostr)\n",
    "save_pickle(f'{save_path}vocab_tokens.pkl', bpevocab.vocab_tokenization)\n",
    "save_pickle(f'{save_path}sorted_tokens.pkl', bpevocab.sorted_tokens)"
   ]
  },
  {
   "cell_type": "markdown",
   "metadata": {},
   "source": [
    "## Load Saved vocab"
   ]
  },
  {
   "cell_type": "code",
   "execution_count": 10,
   "metadata": {},
   "outputs": [],
   "source": [
    "strtoint = load_pickle(f'{save_path}strtoint.pkl')\n",
    "inttostr = load_pickle(f'{save_path}inttostr.pkl')\n",
    "vocab_tokens = load_pickle(f'{save_path}vocab_tokens.pkl')\n",
    "sorted_tokens = load_pickle(f'{save_path}sorted_tokens.pkl')"
   ]
  },
  {
   "cell_type": "code",
   "execution_count": 11,
   "metadata": {},
   "outputs": [],
   "source": [
    "tokenizer = BPETokenize(strtoint, inttostr, vocab_tokens)"
   ]
  },
  {
   "cell_type": "code",
   "execution_count": 12,
   "metadata": {},
   "outputs": [],
   "source": [
    "_, _, tokenized_text = tokenizer.tokenize_sentence(text, sorted_tokens)"
   ]
  },
  {
   "cell_type": "code",
   "execution_count": 13,
   "metadata": {},
   "outputs": [],
   "source": [
    "save_pickle(f'{save_path}tokenized_screenplays.pkl', tokenized_text)"
   ]
  },
  {
   "cell_type": "code",
   "execution_count": 14,
   "metadata": {},
   "outputs": [
    {
     "output_type": "execute_result",
     "data": {
      "text/plain": "395312"
     },
     "metadata": {},
     "execution_count": 14
    }
   ],
   "source": [
    "len(tokenized_text)"
   ]
  },
  {
   "cell_type": "code",
   "execution_count": 15,
   "metadata": {},
   "outputs": [
    {
     "output_type": "execute_result",
     "data": {
      "text/plain": "[5771, 820, 125, 1216, 2059, 1023, 3741, 627, 87, 23]"
     },
     "metadata": {},
     "execution_count": 15
    }
   ],
   "source": [
    "tokenized_text[:10]"
   ]
  },
  {
   "cell_type": "code",
   "execution_count": null,
   "metadata": {},
   "outputs": [],
   "source": []
  }
 ]
}